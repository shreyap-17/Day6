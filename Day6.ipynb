{
 "cells": [
  {
   "cell_type": "markdown",
   "metadata": {},
   "source": [
    "# Task 1"
   ]
  },
  {
   "cell_type": "code",
   "execution_count": 1,
   "metadata": {},
   "outputs": [
    {
     "name": "stdout",
     "output_type": "stream",
     "text": [
      "Price          0\n",
      "Age          100\n",
      "KM            15\n",
      "FuelType     100\n",
      "HP             6\n",
      "MetColor     150\n",
      "Automatic      0\n",
      "CC             0\n",
      "Doors          0\n",
      "Weight         0\n",
      "dtype: int64\n"
     ]
    }
   ],
   "source": [
    "import os \n",
    "os.chdir('E:')\n",
    "import pandas as pd\n",
    "c1=pd.read_csv('Toyota.csv',na_values=['??','????'],index_col=0)\n",
    "c2=c1.copy()\n",
    "c3=c1.copy()\n",
    "\n",
    "#to check null values isnull() or isna() it returns boolean values if we have nan values\n",
    "print(c2.isna().sum())"
   ]
  },
  {
   "cell_type": "code",
   "execution_count": 2,
   "metadata": {},
   "outputs": [],
   "source": [
    "#sunsetting rows which have one or more missing values\n",
    "missing = c2[c2.isna().any(axis=1)] #any for atleast"
   ]
  },
  {
   "cell_type": "code",
   "execution_count": 3,
   "metadata": {},
   "outputs": [],
   "source": [
    "#two ways of approch\n",
    "#1.fill the missing values with mean/median,in case of numerical values\n",
    "#2.fill the missing values with thw class which has maximum count, in case of categorical values\n"
   ]
  },
  {
   "cell_type": "code",
   "execution_count": 4,
   "metadata": {},
   "outputs": [
    {
     "name": "stdout",
     "output_type": "stream",
     "text": [
      "              Price          Age             KM           HP     MetColor  \\\n",
      "count   1436.000000  1336.000000    1421.000000  1430.000000  1286.000000   \n",
      "mean   10730.824513    55.672156   68647.239972   101.478322     0.674961   \n",
      "std     3626.964585    18.589804   37333.023589    14.768255     0.468572   \n",
      "min     4350.000000     1.000000       1.000000    69.000000     0.000000   \n",
      "25%     8450.000000    43.000000   43210.000000    90.000000     0.000000   \n",
      "50%     9900.000000    60.000000   63634.000000   110.000000     1.000000   \n",
      "75%    11950.000000    70.000000   87000.000000   110.000000     1.000000   \n",
      "max    32500.000000    80.000000  243000.000000   192.000000     1.000000   \n",
      "\n",
      "         Automatic           CC      Weight  \n",
      "count  1436.000000  1436.000000  1436.00000  \n",
      "mean      0.055710  1566.827994  1072.45961  \n",
      "std       0.229441   187.182436    52.64112  \n",
      "min       0.000000  1300.000000  1000.00000  \n",
      "25%       0.000000  1400.000000  1040.00000  \n",
      "50%       0.000000  1600.000000  1070.00000  \n",
      "75%       0.000000  1600.000000  1085.00000  \n",
      "max       1.000000  2000.000000  1615.00000  \n"
     ]
    }
   ],
   "source": [
    "#impute missing values\n",
    "#describe statistics that summerize the central tendency ,dispertion and shape of the dataset's distribution,exclusing nan\n",
    "print(c1.describe())"
   ]
  },
  {
   "cell_type": "code",
   "execution_count": 5,
   "metadata": {},
   "outputs": [
    {
     "name": "stdout",
     "output_type": "stream",
     "text": [
      "55.67215568862275\n",
      "63634.0\n",
      "101.47832167832168\n",
      "Price          0\n",
      "Age            0\n",
      "KM             0\n",
      "FuelType     100\n",
      "HP             0\n",
      "MetColor     150\n",
      "Automatic      0\n",
      "CC             0\n",
      "Doors          0\n",
      "Weight         0\n",
      "dtype: int64\n"
     ]
    }
   ],
   "source": [
    "#calculate mean value of age\n",
    "print(c2['Age'].mean())\n",
    "c2['Age'].fillna(c2['Age'].mean(),inplace=True)\n",
    "\n",
    "print(c2['KM'].median())\n",
    "c2['KM'].fillna(c2['KM'].median(),inplace=True)\n",
    "\n",
    "print(c2['HP'].mean())\n",
    "c2['HP'].fillna(c2['HP'].mean(),inplace=True)\n",
    "print(c2.isna().sum())"
   ]
  },
  {
   "cell_type": "code",
   "execution_count": 6,
   "metadata": {},
   "outputs": [
    {
     "name": "stdout",
     "output_type": "stream",
     "text": [
      "Petrol\n",
      "0    1.0\n",
      "dtype: float64\n",
      "Price        0\n",
      "Age          0\n",
      "KM           0\n",
      "FuelType     0\n",
      "HP           0\n",
      "MetColor     0\n",
      "Automatic    0\n",
      "CC           0\n",
      "Doors        0\n",
      "Weight       0\n",
      "dtype: int64\n"
     ]
    }
   ],
   "source": [
    "#for categorical value\n",
    "#gives output on descending order\n",
    "print(c2['FuelType'].value_counts().index[0]) #index for get seprate mode value\n",
    "c2['FuelType'].fillna(c2['FuelType'].value_counts().index[0],inplace=True)\n",
    "\n",
    "print(c2['MetColor'].mode())\n",
    "c2['MetColor'].fillna(c2['MetColor'].mode()[0],inplace=True)\n",
    "\n",
    "print(c2.isna().sum())"
   ]
  },
  {
   "cell_type": "code",
   "execution_count": 7,
   "metadata": {},
   "outputs": [
    {
     "name": "stdout",
     "output_type": "stream",
     "text": [
      "Price        0\n",
      "Age          0\n",
      "KM           0\n",
      "FuelType     0\n",
      "HP           0\n",
      "MetColor     0\n",
      "Automatic    0\n",
      "CC           0\n",
      "Doors        0\n",
      "Weight       0\n",
      "dtype: int64\n"
     ]
    }
   ],
   "source": [
    "#how to imputation in one shot \n",
    "c3 = c3.apply(lambda x:x.fillna(x.mean()) if x.dtype == 'float' else x.fillna(x.value_counts().index[0]))\n",
    "print(c3.isna().sum())"
   ]
  },
  {
   "cell_type": "markdown",
   "metadata": {},
   "source": [
    "# Task 2 & 3"
   ]
  },
  {
   "cell_type": "code",
   "execution_count": 8,
   "metadata": {},
   "outputs": [
    {
     "name": "stdout",
     "output_type": "stream",
     "text": [
      "   PassengerId  Survived  Pclass  \\\n",
      "0            1         0       3   \n",
      "1            2         1       1   \n",
      "2            3         1       3   \n",
      "3            4         1       1   \n",
      "4            5         0       3   \n",
      "\n",
      "                                                Name     Sex   Age  SibSp  \\\n",
      "0                            Braund, Mr. Owen Harris    male  22.0      1   \n",
      "1  Cumings, Mrs. John Bradley (Florence Briggs Th...  female  38.0      1   \n",
      "2                             Heikkinen, Miss. Laina  female  26.0      0   \n",
      "3       Futrelle, Mrs. Jacques Heath (Lily May Peel)  female  35.0      1   \n",
      "4                           Allen, Mr. William Henry    male  35.0      0   \n",
      "\n",
      "   Parch            Ticket     Fare Cabin Embarked  \n",
      "0      0         A/5 21171   7.2500   NaN        S  \n",
      "1      0          PC 17599  71.2833   C85        C  \n",
      "2      0  STON/O2. 3101282   7.9250   NaN        S  \n",
      "3      0            113803  53.1000  C123        S  \n",
      "4      0            373450   8.0500   NaN        S  \n"
     ]
    }
   ],
   "source": [
    "from sklearn.tree import  DecisionTreeClassifier\n",
    "from sklearn import preprocessing\n",
    "import pandas as pd\n",
    "\n",
    "df = pd.read_csv('train.csv')\n",
    "print(df.head())"
   ]
  },
  {
   "cell_type": "code",
   "execution_count": 9,
   "metadata": {},
   "outputs": [],
   "source": [
    "#Data cleaning\n",
    "\n",
    "df['Age'].fillna(df['Age'].median(),inplace=True)\n",
    "\n",
    "df = df.dropna(axis=0, subset=['Embarked'])"
   ]
  },
  {
   "cell_type": "code",
   "execution_count": 10,
   "metadata": {},
   "outputs": [],
   "source": [
    "drop_column = ['Cabin']\n",
    "df.drop(drop_column, axis=1, inplace = True)"
   ]
  },
  {
   "cell_type": "code",
   "execution_count": 11,
   "metadata": {},
   "outputs": [
    {
     "name": "stdout",
     "output_type": "stream",
     "text": [
      "PassengerId    0\n",
      "Survived       0\n",
      "Pclass         0\n",
      "Name           0\n",
      "Sex            0\n",
      "Age            0\n",
      "SibSp          0\n",
      "Parch          0\n",
      "Ticket         0\n",
      "Fare           0\n",
      "Embarked       0\n",
      "dtype: int64\n"
     ]
    }
   ],
   "source": [
    "print(df.isna().sum())"
   ]
  },
  {
   "cell_type": "code",
   "execution_count": 12,
   "metadata": {},
   "outputs": [
    {
     "name": "stdout",
     "output_type": "stream",
     "text": [
      "0      1\n",
      "1      0\n",
      "2      0\n",
      "3      0\n",
      "4      1\n",
      "      ..\n",
      "886    1\n",
      "887    0\n",
      "888    0\n",
      "889    1\n",
      "890    1\n",
      "Name: Sex, Length: 889, dtype: int32\n",
      "0      2\n",
      "1      0\n",
      "2      2\n",
      "3      2\n",
      "4      2\n",
      "      ..\n",
      "886    2\n",
      "887    2\n",
      "888    2\n",
      "889    0\n",
      "890    1\n",
      "Name: Embarked, Length: 889, dtype: int32\n"
     ]
    }
   ],
   "source": [
    "#Label Encoding\n",
    "label_encoder = preprocessing.LabelEncoder()\n",
    "df['Sex']= label_encoder.fit_transform(df['Sex']) \n",
    "df['Sex'].unique()\n",
    "print(df['Sex'])\n",
    "\n",
    "\n",
    "df['Embarked']= label_encoder.fit_transform(df['Embarked']) \n",
    "df['Embarked'].unique()\n",
    "print(df['Embarked'])"
   ]
  },
  {
   "cell_type": "code",
   "execution_count": 13,
   "metadata": {},
   "outputs": [],
   "source": [
    "import re\n",
    "# Define function to extract titles from passenger names\n",
    "def get_title(name):\n",
    "    title_search = re.search(' ([A-Za-z]+)\\.', name)\n",
    "    # If the title exists, extract and return it.\n",
    "    if title_search:\n",
    "        return title_search.group(1)\n",
    "    return \"\"\n",
    "# Create a new feature Title, containing the titles of passenger names\n",
    "for dataset in df:\n",
    "    df['Title'] = df['Name'].apply(get_title)\n",
    "# Group all non-common titles into one single grouping \"Rare\"\n",
    "for dataset in df:\n",
    "    df['Title'] = df['Title'].replace(['Lady', 'Countess','Capt', 'Col','Don', \n",
    "                                                 'Dr', 'Major', 'Rev', 'Sir', 'Jonkheer', 'Dona'], 'Rare')\n",
    "\n",
    "    df['Title'] = df['Title'].replace('Mlle', 'Miss')\n",
    "    df['Title'] = df['Title'].replace('Ms', 'Miss')\n",
    "    df['Title'] = df['Title'].replace('Mme', 'Mrs')"
   ]
  },
  {
   "cell_type": "code",
   "execution_count": 14,
   "metadata": {},
   "outputs": [
    {
     "data": {
      "text/html": [
       "<div>\n",
       "<style scoped>\n",
       "    .dataframe tbody tr th:only-of-type {\n",
       "        vertical-align: middle;\n",
       "    }\n",
       "\n",
       "    .dataframe tbody tr th {\n",
       "        vertical-align: top;\n",
       "    }\n",
       "\n",
       "    .dataframe thead th {\n",
       "        text-align: right;\n",
       "    }\n",
       "</style>\n",
       "<table border=\"1\" class=\"dataframe\">\n",
       "  <thead>\n",
       "    <tr style=\"text-align: right;\">\n",
       "      <th></th>\n",
       "      <th>PassengerId</th>\n",
       "      <th>Survived</th>\n",
       "      <th>Pclass</th>\n",
       "      <th>Name</th>\n",
       "      <th>Sex</th>\n",
       "      <th>Age</th>\n",
       "      <th>SibSp</th>\n",
       "      <th>Parch</th>\n",
       "      <th>Ticket</th>\n",
       "      <th>Fare</th>\n",
       "      <th>Embarked</th>\n",
       "      <th>Title</th>\n",
       "    </tr>\n",
       "  </thead>\n",
       "  <tbody>\n",
       "    <tr>\n",
       "      <th>0</th>\n",
       "      <td>1</td>\n",
       "      <td>0</td>\n",
       "      <td>3</td>\n",
       "      <td>Braund, Mr. Owen Harris</td>\n",
       "      <td>1</td>\n",
       "      <td>22.0</td>\n",
       "      <td>1</td>\n",
       "      <td>0</td>\n",
       "      <td>A/5 21171</td>\n",
       "      <td>7.2500</td>\n",
       "      <td>2</td>\n",
       "      <td>Mr</td>\n",
       "    </tr>\n",
       "    <tr>\n",
       "      <th>1</th>\n",
       "      <td>2</td>\n",
       "      <td>1</td>\n",
       "      <td>1</td>\n",
       "      <td>Cumings, Mrs. John Bradley (Florence Briggs Th...</td>\n",
       "      <td>0</td>\n",
       "      <td>38.0</td>\n",
       "      <td>1</td>\n",
       "      <td>0</td>\n",
       "      <td>PC 17599</td>\n",
       "      <td>71.2833</td>\n",
       "      <td>0</td>\n",
       "      <td>Mrs</td>\n",
       "    </tr>\n",
       "    <tr>\n",
       "      <th>2</th>\n",
       "      <td>3</td>\n",
       "      <td>1</td>\n",
       "      <td>3</td>\n",
       "      <td>Heikkinen, Miss. Laina</td>\n",
       "      <td>0</td>\n",
       "      <td>26.0</td>\n",
       "      <td>0</td>\n",
       "      <td>0</td>\n",
       "      <td>STON/O2. 3101282</td>\n",
       "      <td>7.9250</td>\n",
       "      <td>2</td>\n",
       "      <td>Miss</td>\n",
       "    </tr>\n",
       "    <tr>\n",
       "      <th>3</th>\n",
       "      <td>4</td>\n",
       "      <td>1</td>\n",
       "      <td>1</td>\n",
       "      <td>Futrelle, Mrs. Jacques Heath (Lily May Peel)</td>\n",
       "      <td>0</td>\n",
       "      <td>35.0</td>\n",
       "      <td>1</td>\n",
       "      <td>0</td>\n",
       "      <td>113803</td>\n",
       "      <td>53.1000</td>\n",
       "      <td>2</td>\n",
       "      <td>Mrs</td>\n",
       "    </tr>\n",
       "    <tr>\n",
       "      <th>4</th>\n",
       "      <td>5</td>\n",
       "      <td>0</td>\n",
       "      <td>3</td>\n",
       "      <td>Allen, Mr. William Henry</td>\n",
       "      <td>1</td>\n",
       "      <td>35.0</td>\n",
       "      <td>0</td>\n",
       "      <td>0</td>\n",
       "      <td>373450</td>\n",
       "      <td>8.0500</td>\n",
       "      <td>2</td>\n",
       "      <td>Mr</td>\n",
       "    </tr>\n",
       "  </tbody>\n",
       "</table>\n",
       "</div>"
      ],
      "text/plain": [
       "   PassengerId  Survived  Pclass  \\\n",
       "0            1         0       3   \n",
       "1            2         1       1   \n",
       "2            3         1       3   \n",
       "3            4         1       1   \n",
       "4            5         0       3   \n",
       "\n",
       "                                                Name  Sex   Age  SibSp  Parch  \\\n",
       "0                            Braund, Mr. Owen Harris    1  22.0      1      0   \n",
       "1  Cumings, Mrs. John Bradley (Florence Briggs Th...    0  38.0      1      0   \n",
       "2                             Heikkinen, Miss. Laina    0  26.0      0      0   \n",
       "3       Futrelle, Mrs. Jacques Heath (Lily May Peel)    0  35.0      1      0   \n",
       "4                           Allen, Mr. William Henry    1  35.0      0      0   \n",
       "\n",
       "             Ticket     Fare  Embarked Title  \n",
       "0         A/5 21171   7.2500         2    Mr  \n",
       "1          PC 17599  71.2833         0   Mrs  \n",
       "2  STON/O2. 3101282   7.9250         2  Miss  \n",
       "3            113803  53.1000         2   Mrs  \n",
       "4            373450   8.0500         2    Mr  "
      ]
     },
     "execution_count": 14,
     "metadata": {},
     "output_type": "execute_result"
    }
   ],
   "source": [
    "df.head()"
   ]
  },
  {
   "cell_type": "code",
   "execution_count": 15,
   "metadata": {},
   "outputs": [
    {
     "name": "stdout",
     "output_type": "stream",
     "text": [
      "0      2\n",
      "1      3\n",
      "2      1\n",
      "3      3\n",
      "4      2\n",
      "      ..\n",
      "886    4\n",
      "887    1\n",
      "888    1\n",
      "889    2\n",
      "890    2\n",
      "Name: Title, Length: 889, dtype: int32\n"
     ]
    }
   ],
   "source": [
    "#Label Encoding\n",
    "label_encoder = preprocessing.LabelEncoder()\n",
    "df['Title']= label_encoder.fit_transform(df['Title']) \n",
    "df['Title'].unique()\n",
    "print(df['Title'])"
   ]
  },
  {
   "cell_type": "code",
   "execution_count": 16,
   "metadata": {},
   "outputs": [
    {
     "name": "stdout",
     "output_type": "stream",
     "text": [
      "(889, 8)\n",
      "0      0\n",
      "1      1\n",
      "2      1\n",
      "3      1\n",
      "4      0\n",
      "      ..\n",
      "886    0\n",
      "887    1\n",
      "888    0\n",
      "889    1\n",
      "890    0\n",
      "Name: Survived, Length: 889, dtype: int64\n"
     ]
    }
   ],
   "source": [
    "feature = df[['Pclass','Age','Sex','SibSp','Parch','Survived','Embarked','Title']]\n",
    "feature = feature.dropna()\n",
    "print(feature.shape)\n",
    "\n",
    "x = feature.drop('Survived',axis=1)\n",
    "\n",
    "y = feature['Survived']\n",
    "print(y)"
   ]
  },
  {
   "cell_type": "code",
   "execution_count": 17,
   "metadata": {},
   "outputs": [
    {
     "name": "stdout",
     "output_type": "stream",
     "text": [
      "281    0\n",
      "435    1\n",
      "39     1\n",
      "418    0\n",
      "585    1\n",
      "      ..\n",
      "405    0\n",
      "790    0\n",
      "845    0\n",
      "658    0\n",
      "785    0\n",
      "Name: Survived, Length: 89, dtype: int64\n"
     ]
    }
   ],
   "source": [
    "from sklearn.model_selection import train_test_split\n",
    "x_train,x_test,y_train,y_test=train_test_split(x,y,test_size=0.1,random_state=42)\n",
    "print(y_test)"
   ]
  },
  {
   "cell_type": "code",
   "execution_count": 18,
   "metadata": {},
   "outputs": [
    {
     "name": "stdout",
     "output_type": "stream",
     "text": [
      "DecisionTreeClassifier(max_depth=4)\n",
      "[0 1 1 0 1 0 0 0 1 1 0 0 0 0 0 0 0 0 0 0 0 1 0 0 0 0 0 1 0 0 0 1 0 0 0 0 1\n",
      " 0 0 0 0 0 0 0 0 0 1 0 0 1 1 1 0 0 1 1 0 0 0 0 0 0 1 0 1 0 0 0 1 1 0 1 1 0\n",
      " 0 1 0 0 0 0 0 1 1 1 0 0 0 0 0]\n"
     ]
    }
   ],
   "source": [
    "model=DecisionTreeClassifier(criterion=\"gini\",\n",
    "                             max_depth=4,\n",
    "                            splitter='best',\n",
    "                             min_samples_split=2)\n",
    "model.fit(x_train,y_train)\n",
    "print(model)\n",
    "y_pred = model.predict(x_test)\n",
    "print(y_pred)"
   ]
  },
  {
   "cell_type": "code",
   "execution_count": 19,
   "metadata": {},
   "outputs": [
    {
     "name": "stdout",
     "output_type": "stream",
     "text": [
      "0.8651685393258427\n"
     ]
    }
   ],
   "source": [
    "from sklearn import metrics\n",
    "a=metrics.accuracy_score(y_pred,y_test)\n",
    "print(a)"
   ]
  },
  {
   "cell_type": "code",
   "execution_count": 20,
   "metadata": {},
   "outputs": [
    {
     "data": {
      "text/plain": [
       "[Text(170.3892857142857, 195.696, 'X[2] <= 0.5\\ngini = 0.474\\nsamples = 800\\nvalue = [491, 309]'),\n",
       " Text(95.65714285714286, 152.208, 'X[0] <= 2.5\\ngini = 0.384\\nsamples = 278\\nvalue = [72, 206]'),\n",
       " Text(47.82857142857143, 108.72, 'X[1] <= 56.5\\ngini = 0.09\\nsamples = 149\\nvalue = [7, 142]'),\n",
       " Text(23.914285714285715, 65.232, 'X[1] <= 23.5\\ngini = 0.08\\nsamples = 144\\nvalue = [6, 138]'),\n",
       " Text(11.957142857142857, 21.744, 'gini = 0.0\\nsamples = 35\\nvalue = [0, 35]'),\n",
       " Text(35.871428571428574, 21.744, 'gini = 0.104\\nsamples = 109\\nvalue = [6, 103]'),\n",
       " Text(71.74285714285715, 65.232, 'X[0] <= 1.5\\ngini = 0.32\\nsamples = 5\\nvalue = [1, 4]'),\n",
       " Text(59.785714285714285, 21.744, 'gini = 0.0\\nsamples = 4\\nvalue = [0, 4]'),\n",
       " Text(83.7, 21.744, 'gini = 0.0\\nsamples = 1\\nvalue = [1, 0]'),\n",
       " Text(143.4857142857143, 108.72, 'X[5] <= 1.5\\ngini = 0.5\\nsamples = 129\\nvalue = [65, 64]'),\n",
       " Text(119.57142857142857, 65.232, 'X[1] <= 29.75\\ngini = 0.425\\nsamples = 49\\nvalue = [15, 34]'),\n",
       " Text(107.61428571428571, 21.744, 'gini = 0.386\\nsamples = 46\\nvalue = [12, 34]'),\n",
       " Text(131.52857142857144, 21.744, 'gini = 0.0\\nsamples = 3\\nvalue = [3, 0]'),\n",
       " Text(167.4, 65.232, 'X[3] <= 1.5\\ngini = 0.469\\nsamples = 80\\nvalue = [50, 30]'),\n",
       " Text(155.44285714285715, 21.744, 'gini = 0.497\\nsamples = 61\\nvalue = [33, 28]'),\n",
       " Text(179.35714285714286, 21.744, 'gini = 0.188\\nsamples = 19\\nvalue = [17, 2]'),\n",
       " Text(245.12142857142857, 152.208, 'X[6] <= 1.0\\ngini = 0.317\\nsamples = 522\\nvalue = [419, 103]'),\n",
       " Text(203.27142857142857, 108.72, 'X[3] <= 2.5\\ngini = 0.489\\nsamples = 40\\nvalue = [17, 23]'),\n",
       " Text(191.31428571428572, 65.232, 'gini = 0.0\\nsamples = 22\\nvalue = [0, 22]'),\n",
       " Text(215.22857142857143, 65.232, 'X[1] <= 3.5\\ngini = 0.105\\nsamples = 18\\nvalue = [17, 1]'),\n",
       " Text(203.27142857142857, 21.744, 'gini = 0.278\\nsamples = 6\\nvalue = [5, 1]'),\n",
       " Text(227.18571428571428, 21.744, 'gini = 0.0\\nsamples = 12\\nvalue = [12, 0]'),\n",
       " Text(286.9714285714286, 108.72, 'X[0] <= 1.5\\ngini = 0.277\\nsamples = 482\\nvalue = [402, 80]'),\n",
       " Text(263.0571428571429, 65.232, 'X[1] <= 53.0\\ngini = 0.456\\nsamples = 108\\nvalue = [70, 38]'),\n",
       " Text(251.1, 21.744, 'gini = 0.483\\nsamples = 86\\nvalue = [51, 35]'),\n",
       " Text(275.01428571428573, 21.744, 'gini = 0.236\\nsamples = 22\\nvalue = [19, 3]'),\n",
       " Text(310.8857142857143, 65.232, 'X[1] <= 32.25\\ngini = 0.199\\nsamples = 374\\nvalue = [332, 42]'),\n",
       " Text(298.92857142857144, 21.744, 'gini = 0.223\\nsamples = 281\\nvalue = [245, 36]'),\n",
       " Text(322.84285714285716, 21.744, 'gini = 0.121\\nsamples = 93\\nvalue = [87, 6]')]"
      ]
     },
     "execution_count": 20,
     "metadata": {},
     "output_type": "execute_result"
    },
    {
     "data": {
      "image/png": "[encoded data removed]",
      "text/plain": [
       "<Figure size 432x288 with 1 Axes>"
      ]
     },
     "metadata": {
      "needs_background": "light"
     },
     "output_type": "display_data"
    }
   ],
   "source": [
    "from sklearn import tree\n",
    "tree.plot_tree(model)"
   ]
  },
  {
   "cell_type": "code",
   "execution_count": null,
   "metadata": {},
   "outputs": [],
   "source": []
  }
 ],
 "metadata": {
  "kernelspec": {
   "display_name": "Python 3",
   "language": "python",
   "name": "python3"
  },
  "language_info": {
   "codemirror_mode": {
    "name": "ipython",
    "version": 3
   },
   "file_extension": ".py",
   "mimetype": "text/x-python",
   "name": "python",
   "nbconvert_exporter": "python",
   "pygments_lexer": "ipython3",
   "version": "3.8.6rc1"
  }
 },
 "nbformat": 4,
 "nbformat_minor": 4
}
